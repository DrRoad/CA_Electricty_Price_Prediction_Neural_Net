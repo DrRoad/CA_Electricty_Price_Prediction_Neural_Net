{
 "cells": [
  {
   "cell_type": "markdown",
   "metadata": {},
   "source": [
    "<img src=\"http://imgur.com/1ZcRyrc.png\" style=\"float: left; margin: 20px; height: 55px\">  \n",
    "\n",
    "<b> <font size='5'>  \n",
    "ELEC PRICE PREDICTION CAPSTONE:</font>  \n",
    "\n",
    "<font size='4'>Electricty Price DataFrame Creation Notebook</font> </b>\n",
    "\n",
    "<font size='3'>  \n",
    "&nbsp; &nbsp; &nbsp; &nbsp; &nbsp; &nbsp; &nbsp; &nbsp; &nbsp; &nbsp; Manu Kalia Project Submission<br>\n",
    "&nbsp; &nbsp; &nbsp; &nbsp; &nbsp; &nbsp; &nbsp; &nbsp; &nbsp; &nbsp; DSI-7-SF<br>\n",
    "&nbsp; &nbsp; &nbsp; &nbsp; &nbsp; &nbsp; &nbsp; &nbsp; &nbsp; &nbsp; 15-May-2019<br>\n",
    "</font>\n",
    "\n",
    "---\n"
   ]
  },
  {
   "cell_type": "markdown",
   "metadata": {
    "toc": true
   },
   "source": [
    "<h1>Table of Contents<span class=\"tocSkip\"></span></h1>\n",
    "<div class=\"toc\"><ul class=\"toc-item\"><li><span><a href=\"#Imports\" data-toc-modified-id=\"Imports-1\"><span class=\"toc-item-num\">1&nbsp;&nbsp;</span>Imports</a></span></li><li><span><a href=\"#DataFrame-Column-Headings\" data-toc-modified-id=\"DataFrame-Column-Headings-2\"><span class=\"toc-item-num\">2&nbsp;&nbsp;</span>DataFrame Column Headings</a></span></li><li><span><a href=\"#Day-Ahead-Market-DataFrame\" data-toc-modified-id=\"Day-Ahead-Market-DataFrame-3\"><span class=\"toc-item-num\">3&nbsp;&nbsp;</span>Day-Ahead-Market DataFrame</a></span></li><li><span><a href=\"#Hour-Ahead-Scheduling-Process-DataFrame\" data-toc-modified-id=\"Hour-Ahead-Scheduling-Process-DataFrame-4\"><span class=\"toc-item-num\">4&nbsp;&nbsp;</span>Hour-Ahead-Scheduling Process DataFrame</a></span></li><li><span><a href=\"#Join-DAM-+-HASP-LMP's-Into-a-Single-DataFrame\" data-toc-modified-id=\"Join-DAM-+-HASP-LMP's-Into-a-Single-DataFrame-5\"><span class=\"toc-item-num\">5&nbsp;&nbsp;</span>Join DAM + HASP LMP's Into a Single DataFrame</a></span></li></ul></div>"
   ]
  },
  {
   "cell_type": "markdown",
   "metadata": {},
   "source": [
    "---\n",
    "\n",
    "## Imports"
   ]
  },
  {
   "cell_type": "code",
   "execution_count": 1,
   "metadata": {},
   "outputs": [],
   "source": [
    "import pandas as pd\n",
    "import numpy as np\n",
    "\n",
    "import wget, os\n",
    "import time\n",
    "import glob"
   ]
  },
  {
   "cell_type": "markdown",
   "metadata": {},
   "source": [
    "---\n",
    "\n",
    "## Day-Ahead-Market DataFrame"
   ]
  },
  {
   "cell_type": "code",
   "execution_count": 2,
   "metadata": {},
   "outputs": [],
   "source": [
    "dam_orig_cols=['INTERVALSTARTTIME_GMT',\n",
    "               'OPR_DT',\n",
    "               'OPR_HR',\n",
    "               'NODE',\n",
    "               'MARKET_RUN_ID',\n",
    "               'LMP_TYPE',\n",
    "               'MW']\n",
    "\n",
    "dam_new_cols =['start_datetime',\n",
    "               'date',\n",
    "               'hr_index',\n",
    "               'node',\n",
    "               'market',\n",
    "               'lmp_type',\n",
    "               'dam_price_per_mwh']\n",
    "\n",
    "dam_rename_dict = {old: new for old, new in zip(dam_orig_cols, dam_new_cols)}"
   ]
  },
  {
   "cell_type": "code",
   "execution_count": 3,
   "metadata": {},
   "outputs": [],
   "source": [
    "caiso_dam_df = pd.DataFrame(columns=dam_new_cols)\n",
    "\n",
    "for file in glob.glob('../unzipped_caiso_dam/*.csv'):\n",
    "    df = pd.read_csv(file, usecols=dam_orig_cols).rename(index=str,\n",
    "                                                         columns=dam_rename_dict)\n",
    "    df = df[df.lmp_type == 'LMP']\n",
    "    caiso_dam_df = caiso_dam_df.append(df, ignore_index=True)"
   ]
  },
  {
   "cell_type": "code",
   "execution_count": 4,
   "metadata": {},
   "outputs": [
    {
     "data": {
      "text/plain": [
       "(29149, 7)"
      ]
     },
     "execution_count": 4,
     "metadata": {},
     "output_type": "execute_result"
    }
   ],
   "source": [
    "caiso_dam_df.shape"
   ]
  },
  {
   "cell_type": "code",
   "execution_count": 5,
   "metadata": {},
   "outputs": [
    {
     "data": {
      "text/html": [
       "<div>\n",
       "<style scoped>\n",
       "    .dataframe tbody tr th:only-of-type {\n",
       "        vertical-align: middle;\n",
       "    }\n",
       "\n",
       "    .dataframe tbody tr th {\n",
       "        vertical-align: top;\n",
       "    }\n",
       "\n",
       "    .dataframe thead th {\n",
       "        text-align: right;\n",
       "    }\n",
       "</style>\n",
       "<table border=\"1\" class=\"dataframe\">\n",
       "  <thead>\n",
       "    <tr style=\"text-align: right;\">\n",
       "      <th></th>\n",
       "      <th>start_datetime</th>\n",
       "      <th>date</th>\n",
       "      <th>hr_index</th>\n",
       "      <th>node</th>\n",
       "      <th>market</th>\n",
       "      <th>lmp_type</th>\n",
       "      <th>dam_price_per_mwh</th>\n",
       "    </tr>\n",
       "  </thead>\n",
       "  <tbody>\n",
       "    <tr>\n",
       "      <th>8707</th>\n",
       "      <td>2016-01-01T08:00:00-00:00</td>\n",
       "      <td>2016-01-01</td>\n",
       "      <td>1</td>\n",
       "      <td>BAYSHOR2_1_N001</td>\n",
       "      <td>DAM</td>\n",
       "      <td>LMP</td>\n",
       "      <td>31.69690</td>\n",
       "    </tr>\n",
       "    <tr>\n",
       "      <th>8705</th>\n",
       "      <td>2016-01-01T09:00:00-00:00</td>\n",
       "      <td>2016-01-01</td>\n",
       "      <td>2</td>\n",
       "      <td>BAYSHOR2_1_N001</td>\n",
       "      <td>DAM</td>\n",
       "      <td>LMP</td>\n",
       "      <td>30.38613</td>\n",
       "    </tr>\n",
       "    <tr>\n",
       "      <th>8708</th>\n",
       "      <td>2016-01-01T10:00:00-00:00</td>\n",
       "      <td>2016-01-01</td>\n",
       "      <td>3</td>\n",
       "      <td>BAYSHOR2_1_N001</td>\n",
       "      <td>DAM</td>\n",
       "      <td>LMP</td>\n",
       "      <td>30.29141</td>\n",
       "    </tr>\n",
       "    <tr>\n",
       "      <th>8716</th>\n",
       "      <td>2016-01-01T11:00:00-00:00</td>\n",
       "      <td>2016-01-01</td>\n",
       "      <td>4</td>\n",
       "      <td>BAYSHOR2_1_N001</td>\n",
       "      <td>DAM</td>\n",
       "      <td>LMP</td>\n",
       "      <td>28.45127</td>\n",
       "    </tr>\n",
       "    <tr>\n",
       "      <th>8714</th>\n",
       "      <td>2016-01-01T12:00:00-00:00</td>\n",
       "      <td>2016-01-01</td>\n",
       "      <td>5</td>\n",
       "      <td>BAYSHOR2_1_N001</td>\n",
       "      <td>DAM</td>\n",
       "      <td>LMP</td>\n",
       "      <td>28.66504</td>\n",
       "    </tr>\n",
       "  </tbody>\n",
       "</table>\n",
       "</div>"
      ],
      "text/plain": [
       "                 start_datetime        date hr_index             node market  \\\n",
       "8707  2016-01-01T08:00:00-00:00  2016-01-01        1  BAYSHOR2_1_N001    DAM   \n",
       "8705  2016-01-01T09:00:00-00:00  2016-01-01        2  BAYSHOR2_1_N001    DAM   \n",
       "8708  2016-01-01T10:00:00-00:00  2016-01-01        3  BAYSHOR2_1_N001    DAM   \n",
       "8716  2016-01-01T11:00:00-00:00  2016-01-01        4  BAYSHOR2_1_N001    DAM   \n",
       "8714  2016-01-01T12:00:00-00:00  2016-01-01        5  BAYSHOR2_1_N001    DAM   \n",
       "\n",
       "     lmp_type  dam_price_per_mwh  \n",
       "8707      LMP           31.69690  \n",
       "8705      LMP           30.38613  \n",
       "8708      LMP           30.29141  \n",
       "8716      LMP           28.45127  \n",
       "8714      LMP           28.66504  "
      ]
     },
     "execution_count": 5,
     "metadata": {},
     "output_type": "execute_result"
    }
   ],
   "source": [
    "caiso_dam_df.sort_values(by='start_datetime').head()"
   ]
  },
  {
   "cell_type": "code",
   "execution_count": 6,
   "metadata": {},
   "outputs": [
    {
     "name": "stdout",
     "output_type": "stream",
     "text": [
      "<class 'pandas.core.frame.DataFrame'>\n",
      "RangeIndex: 29149 entries, 0 to 29148\n",
      "Data columns (total 7 columns):\n",
      "start_datetime       29149 non-null object\n",
      "date                 29149 non-null object\n",
      "hr_index             29149 non-null object\n",
      "node                 29149 non-null object\n",
      "market               29149 non-null object\n",
      "lmp_type             29149 non-null object\n",
      "dam_price_per_mwh    29149 non-null float64\n",
      "dtypes: float64(1), object(6)\n",
      "memory usage: 1.6+ MB\n"
     ]
    }
   ],
   "source": [
    "caiso_dam_df.info()"
   ]
  },
  {
   "cell_type": "markdown",
   "metadata": {},
   "source": [
    "---\n",
    "\n",
    "## Hour-Ahead-Scheduling Process DataFrame\n",
    "(hour-ahead, 15-minute realtime market)"
   ]
  },
  {
   "cell_type": "code",
   "execution_count": 7,
   "metadata": {},
   "outputs": [],
   "source": [
    "hasp_orig_cols=['INTERVALSTARTTIME_GMT',\n",
    "                'OPR_DT',\n",
    "                'OPR_HR',\n",
    "                'NODE',\n",
    "                'MARKET_RUN_ID',\n",
    "                'LMP_TYPE',\n",
    "                'MW']\n",
    "\n",
    "hasp_new_cols =['start_datetime',\n",
    "                'date',\n",
    "                'hr_index',\n",
    "                'node',\n",
    "                'market',\n",
    "                'lmp_type',\n",
    "                'hasp_price_per_mwh']\n",
    "\n",
    "hasp_rename_dict = {old: new for old, new in zip(hasp_orig_cols, hasp_new_cols)}"
   ]
  },
  {
   "cell_type": "code",
   "execution_count": 8,
   "metadata": {},
   "outputs": [],
   "source": [
    "caiso_hasp_df = pd.DataFrame(columns=hasp_new_cols)\n",
    "\n",
    "for file in glob.glob('../unzipped_caiso_hasp/*.csv'):\n",
    "    df = pd.read_csv(file, usecols=hasp_orig_cols).rename(index=str,\n",
    "                                                          columns=hasp_rename_dict)\n",
    "    df = df[df.lmp_type == 'LMP']\n",
    "    caiso_hasp_df = caiso_hasp_df.append(df, ignore_index=True)"
   ]
  },
  {
   "cell_type": "code",
   "execution_count": 9,
   "metadata": {},
   "outputs": [
    {
     "data": {
      "text/plain": [
       "(116272, 7)"
      ]
     },
     "execution_count": 9,
     "metadata": {},
     "output_type": "execute_result"
    }
   ],
   "source": [
    "caiso_hasp_df.shape"
   ]
  },
  {
   "cell_type": "code",
   "execution_count": 10,
   "metadata": {},
   "outputs": [
    {
     "data": {
      "text/html": [
       "<div>\n",
       "<style scoped>\n",
       "    .dataframe tbody tr th:only-of-type {\n",
       "        vertical-align: middle;\n",
       "    }\n",
       "\n",
       "    .dataframe tbody tr th {\n",
       "        vertical-align: top;\n",
       "    }\n",
       "\n",
       "    .dataframe thead th {\n",
       "        text-align: right;\n",
       "    }\n",
       "</style>\n",
       "<table border=\"1\" class=\"dataframe\">\n",
       "  <thead>\n",
       "    <tr style=\"text-align: right;\">\n",
       "      <th></th>\n",
       "      <th>start_datetime</th>\n",
       "      <th>date</th>\n",
       "      <th>hr_index</th>\n",
       "      <th>node</th>\n",
       "      <th>market</th>\n",
       "      <th>lmp_type</th>\n",
       "      <th>hasp_price_per_mwh</th>\n",
       "    </tr>\n",
       "  </thead>\n",
       "  <tbody>\n",
       "    <tr>\n",
       "      <th>0</th>\n",
       "      <td>2016-01-01T08:00:00-00:00</td>\n",
       "      <td>2016-01-01</td>\n",
       "      <td>1</td>\n",
       "      <td>BAYSHOR2_1_N001</td>\n",
       "      <td>HASP</td>\n",
       "      <td>LMP</td>\n",
       "      <td>25.71969</td>\n",
       "    </tr>\n",
       "    <tr>\n",
       "      <th>24</th>\n",
       "      <td>2016-01-01T08:15:00-00:00</td>\n",
       "      <td>2016-01-01</td>\n",
       "      <td>1</td>\n",
       "      <td>BAYSHOR2_1_N001</td>\n",
       "      <td>HASP</td>\n",
       "      <td>LMP</td>\n",
       "      <td>24.54000</td>\n",
       "    </tr>\n",
       "    <tr>\n",
       "      <th>48</th>\n",
       "      <td>2016-01-01T08:30:00-00:00</td>\n",
       "      <td>2016-01-01</td>\n",
       "      <td>1</td>\n",
       "      <td>BAYSHOR2_1_N001</td>\n",
       "      <td>HASP</td>\n",
       "      <td>LMP</td>\n",
       "      <td>24.53352</td>\n",
       "    </tr>\n",
       "    <tr>\n",
       "      <th>72</th>\n",
       "      <td>2016-01-01T08:45:00-00:00</td>\n",
       "      <td>2016-01-01</td>\n",
       "      <td>1</td>\n",
       "      <td>BAYSHOR2_1_N001</td>\n",
       "      <td>HASP</td>\n",
       "      <td>LMP</td>\n",
       "      <td>24.15808</td>\n",
       "    </tr>\n",
       "    <tr>\n",
       "      <th>1</th>\n",
       "      <td>2016-01-01T09:00:00-00:00</td>\n",
       "      <td>2016-01-01</td>\n",
       "      <td>2</td>\n",
       "      <td>BAYSHOR2_1_N001</td>\n",
       "      <td>HASP</td>\n",
       "      <td>LMP</td>\n",
       "      <td>25.32248</td>\n",
       "    </tr>\n",
       "  </tbody>\n",
       "</table>\n",
       "</div>"
      ],
      "text/plain": [
       "               start_datetime        date hr_index             node market  \\\n",
       "0   2016-01-01T08:00:00-00:00  2016-01-01        1  BAYSHOR2_1_N001   HASP   \n",
       "24  2016-01-01T08:15:00-00:00  2016-01-01        1  BAYSHOR2_1_N001   HASP   \n",
       "48  2016-01-01T08:30:00-00:00  2016-01-01        1  BAYSHOR2_1_N001   HASP   \n",
       "72  2016-01-01T08:45:00-00:00  2016-01-01        1  BAYSHOR2_1_N001   HASP   \n",
       "1   2016-01-01T09:00:00-00:00  2016-01-01        2  BAYSHOR2_1_N001   HASP   \n",
       "\n",
       "   lmp_type  hasp_price_per_mwh  \n",
       "0       LMP            25.71969  \n",
       "24      LMP            24.54000  \n",
       "48      LMP            24.53352  \n",
       "72      LMP            24.15808  \n",
       "1       LMP            25.32248  "
      ]
     },
     "execution_count": 10,
     "metadata": {},
     "output_type": "execute_result"
    }
   ],
   "source": [
    "caiso_hasp_df.sort_values(by='start_datetime').head()"
   ]
  },
  {
   "cell_type": "code",
   "execution_count": 11,
   "metadata": {},
   "outputs": [
    {
     "name": "stdout",
     "output_type": "stream",
     "text": [
      "<class 'pandas.core.frame.DataFrame'>\n",
      "RangeIndex: 116272 entries, 0 to 116271\n",
      "Data columns (total 7 columns):\n",
      "start_datetime        116272 non-null object\n",
      "date                  116272 non-null object\n",
      "hr_index              116272 non-null object\n",
      "node                  116272 non-null object\n",
      "market                116272 non-null object\n",
      "lmp_type              116272 non-null object\n",
      "hasp_price_per_mwh    116272 non-null float64\n",
      "dtypes: float64(1), object(6)\n",
      "memory usage: 6.2+ MB\n"
     ]
    }
   ],
   "source": [
    "caiso_hasp_df.info()"
   ]
  },
  {
   "cell_type": "code",
   "execution_count": null,
   "metadata": {},
   "outputs": [],
   "source": []
  },
  {
   "cell_type": "markdown",
   "metadata": {},
   "source": [
    "---\n",
    "\n",
    "## Join DAM + HASP LMP's Into a Single DataFrame"
   ]
  },
  {
   "cell_type": "code",
   "execution_count": 12,
   "metadata": {},
   "outputs": [
    {
     "data": {
      "text/plain": [
       "(116272, 6)"
      ]
     },
     "execution_count": 12,
     "metadata": {},
     "output_type": "execute_result"
    }
   ],
   "source": [
    "all_prices = pd.concat([caiso_hasp_df, caiso_dam_df.dam_price_per_mwh],\n",
    "                       axis=1).drop(columns=['market', 'lmp_type'])\n",
    "all_prices.shape"
   ]
  },
  {
   "cell_type": "code",
   "execution_count": 13,
   "metadata": {},
   "outputs": [
    {
     "data": {
      "text/html": [
       "<div>\n",
       "<style scoped>\n",
       "    .dataframe tbody tr th:only-of-type {\n",
       "        vertical-align: middle;\n",
       "    }\n",
       "\n",
       "    .dataframe tbody tr th {\n",
       "        vertical-align: top;\n",
       "    }\n",
       "\n",
       "    .dataframe thead th {\n",
       "        text-align: right;\n",
       "    }\n",
       "</style>\n",
       "<table border=\"1\" class=\"dataframe\">\n",
       "  <thead>\n",
       "    <tr style=\"text-align: right;\">\n",
       "      <th></th>\n",
       "      <th>start_datetime</th>\n",
       "      <th>date</th>\n",
       "      <th>hr_index</th>\n",
       "      <th>node</th>\n",
       "      <th>hasp_price_per_mwh</th>\n",
       "      <th>dam_price_per_mwh</th>\n",
       "    </tr>\n",
       "  </thead>\n",
       "  <tbody>\n",
       "    <tr>\n",
       "      <th>0</th>\n",
       "      <td>2016-01-01T08:00:00-00:00</td>\n",
       "      <td>2016-01-01</td>\n",
       "      <td>1</td>\n",
       "      <td>BAYSHOR2_1_N001</td>\n",
       "      <td>25.71969</td>\n",
       "      <td>36.61791</td>\n",
       "    </tr>\n",
       "    <tr>\n",
       "      <th>1</th>\n",
       "      <td>2016-01-01T09:00:00-00:00</td>\n",
       "      <td>2016-01-01</td>\n",
       "      <td>2</td>\n",
       "      <td>BAYSHOR2_1_N001</td>\n",
       "      <td>25.32248</td>\n",
       "      <td>45.88246</td>\n",
       "    </tr>\n",
       "    <tr>\n",
       "      <th>2</th>\n",
       "      <td>2016-01-01T10:00:00-00:00</td>\n",
       "      <td>2016-01-01</td>\n",
       "      <td>3</td>\n",
       "      <td>BAYSHOR2_1_N001</td>\n",
       "      <td>24.79065</td>\n",
       "      <td>37.14625</td>\n",
       "    </tr>\n",
       "    <tr>\n",
       "      <th>3</th>\n",
       "      <td>2016-01-01T11:00:00-00:00</td>\n",
       "      <td>2016-01-01</td>\n",
       "      <td>4</td>\n",
       "      <td>BAYSHOR2_1_N001</td>\n",
       "      <td>24.99319</td>\n",
       "      <td>41.83720</td>\n",
       "    </tr>\n",
       "    <tr>\n",
       "      <th>4</th>\n",
       "      <td>2016-01-01T12:00:00-00:00</td>\n",
       "      <td>2016-01-01</td>\n",
       "      <td>5</td>\n",
       "      <td>BAYSHOR2_1_N001</td>\n",
       "      <td>24.69323</td>\n",
       "      <td>51.08138</td>\n",
       "    </tr>\n",
       "  </tbody>\n",
       "</table>\n",
       "</div>"
      ],
      "text/plain": [
       "              start_datetime        date hr_index             node  \\\n",
       "0  2016-01-01T08:00:00-00:00  2016-01-01        1  BAYSHOR2_1_N001   \n",
       "1  2016-01-01T09:00:00-00:00  2016-01-01        2  BAYSHOR2_1_N001   \n",
       "2  2016-01-01T10:00:00-00:00  2016-01-01        3  BAYSHOR2_1_N001   \n",
       "3  2016-01-01T11:00:00-00:00  2016-01-01        4  BAYSHOR2_1_N001   \n",
       "4  2016-01-01T12:00:00-00:00  2016-01-01        5  BAYSHOR2_1_N001   \n",
       "\n",
       "   hasp_price_per_mwh  dam_price_per_mwh  \n",
       "0            25.71969           36.61791  \n",
       "1            25.32248           45.88246  \n",
       "2            24.79065           37.14625  \n",
       "3            24.99319           41.83720  \n",
       "4            24.69323           51.08138  "
      ]
     },
     "execution_count": 13,
     "metadata": {},
     "output_type": "execute_result"
    }
   ],
   "source": [
    "all_prices.head()"
   ]
  },
  {
   "cell_type": "code",
   "execution_count": 14,
   "metadata": {},
   "outputs": [],
   "source": [
    "all_prices.to_csv('../data/all_prices.csv')"
   ]
  },
  {
   "cell_type": "code",
   "execution_count": null,
   "metadata": {},
   "outputs": [],
   "source": []
  },
  {
   "cell_type": "code",
   "execution_count": null,
   "metadata": {},
   "outputs": [],
   "source": []
  },
  {
   "cell_type": "code",
   "execution_count": null,
   "metadata": {},
   "outputs": [],
   "source": []
  }
 ],
 "metadata": {
  "kernelspec": {
   "display_name": "Python 3",
   "language": "python",
   "name": "python3"
  },
  "language_info": {
   "codemirror_mode": {
    "name": "ipython",
    "version": 3
   },
   "file_extension": ".py",
   "mimetype": "text/x-python",
   "name": "python",
   "nbconvert_exporter": "python",
   "pygments_lexer": "ipython3",
   "version": "3.6.8"
  },
  "toc": {
   "base_numbering": 1,
   "nav_menu": {},
   "number_sections": true,
   "sideBar": true,
   "skip_h1_title": true,
   "title_cell": "Table of Contents",
   "title_sidebar": "Contents",
   "toc_cell": true,
   "toc_position": {
    "height": "calc(100% - 180px)",
    "left": "10px",
    "top": "150px",
    "width": "392.656px"
   },
   "toc_section_display": true,
   "toc_window_display": true
  },
  "varInspector": {
   "cols": {
    "lenName": 16,
    "lenType": 16,
    "lenVar": 40
   },
   "kernels_config": {
    "python": {
     "delete_cmd_postfix": "",
     "delete_cmd_prefix": "del ",
     "library": "var_list.py",
     "varRefreshCmd": "print(var_dic_list())"
    },
    "r": {
     "delete_cmd_postfix": ") ",
     "delete_cmd_prefix": "rm(",
     "library": "var_list.r",
     "varRefreshCmd": "cat(var_dic_list()) "
    }
   },
   "types_to_exclude": [
    "module",
    "function",
    "builtin_function_or_method",
    "instance",
    "_Feature"
   ],
   "window_display": false
  }
 },
 "nbformat": 4,
 "nbformat_minor": 2
}
