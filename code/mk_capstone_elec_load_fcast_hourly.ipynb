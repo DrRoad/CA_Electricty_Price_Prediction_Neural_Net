{
 "cells": [
  {
   "cell_type": "markdown",
   "metadata": {},
   "source": [
    "<img src=\"http://imgur.com/1ZcRyrc.png\" style=\"float: left; margin: 20px; height: 55px\">  \n",
    "\n",
    "<b> <font size='5'>  \n",
    "ELEC PRICE PREDICTION CAPSTONE:</font>  \n",
    "\n",
    "<font size='4'>Electricity Load Forecasts DataFrame Creation Notebook  \n",
    "&nbsp; &nbsp; &nbsp; &nbsp; &nbsp; &nbsp; &nbsp; &nbsp; (Down-sampled to hourly)\n",
    "</font> </b>\n",
    "\n",
    "<font size='3'>  \n",
    "&nbsp; &nbsp; &nbsp; &nbsp; &nbsp; &nbsp; &nbsp; &nbsp; &nbsp; &nbsp; Manu Kalia Project Submission<br>\n",
    "&nbsp; &nbsp; &nbsp; &nbsp; &nbsp; &nbsp; &nbsp; &nbsp; &nbsp; &nbsp; DSI-7-SF<br>\n",
    "&nbsp; &nbsp; &nbsp; &nbsp; &nbsp; &nbsp; &nbsp; &nbsp; &nbsp; &nbsp; 15-May-2019<br>\n",
    "</font>\n",
    "\n",
    "---\n"
   ]
  },
  {
   "cell_type": "markdown",
   "metadata": {
    "toc": true
   },
   "source": [
    "<h1>Table of Contents<span class=\"tocSkip\"></span></h1>\n",
    "<div class=\"toc\"><ul class=\"toc-item\"><li><span><a href=\"#Imports\" data-toc-modified-id=\"Imports-1\"><span class=\"toc-item-num\">1&nbsp;&nbsp;</span>Imports</a></span></li><li><span><a href=\"#7-Day-Ahead-Demand-Forecast-DataFrame\" data-toc-modified-id=\"7-Day-Ahead-Demand-Forecast-DataFrame-2\"><span class=\"toc-item-num\">2&nbsp;&nbsp;</span>7-Day-Ahead Demand Forecast DataFrame</a></span></li><li><span><a href=\"#2-Day-Ahead-Demand-Forecast-DataFrame\" data-toc-modified-id=\"2-Day-Ahead-Demand-Forecast-DataFrame-3\"><span class=\"toc-item-num\">3&nbsp;&nbsp;</span>2-Day-Ahead Demand Forecast DataFrame</a></span></li><li><span><a href=\"#Day-Ahead-Demand-Forecast-DataFrame\" data-toc-modified-id=\"Day-Ahead-Demand-Forecast-DataFrame-4\"><span class=\"toc-item-num\">4&nbsp;&nbsp;</span>Day-Ahead Demand Forecast DataFrame</a></span></li><li><span><a href=\"#RTM-DataFrame\" data-toc-modified-id=\"RTM-DataFrame-5\"><span class=\"toc-item-num\">5&nbsp;&nbsp;</span>RTM DataFrame</a></span></li><li><span><a href=\"#Join-Forecasts-Into-a-Single-DataFrame\" data-toc-modified-id=\"Join-Forecasts-Into-a-Single-DataFrame-6\"><span class=\"toc-item-num\">6&nbsp;&nbsp;</span>Join Forecasts Into a Single DataFrame</a></span></li></ul></div>"
   ]
  },
  {
   "cell_type": "markdown",
   "metadata": {},
   "source": [
    "---\n",
    "\n",
    "## Imports"
   ]
  },
  {
   "cell_type": "code",
   "execution_count": 1,
   "metadata": {},
   "outputs": [],
   "source": [
    "import pandas as pd\n",
    "import numpy as np\n",
    "\n",
    "import wget, os\n",
    "import time\n",
    "import glob\n",
    "\n",
    "import matplotlib.pyplot as plt\n",
    "import seaborn as sns\n",
    "from pandas.plotting import register_matplotlib_converters\n",
    "register_matplotlib_converters()\n",
    "%matplotlib inline\n",
    "sns.set_style('whitegrid')"
   ]
  },
  {
   "cell_type": "markdown",
   "metadata": {},
   "source": [
    "---\n",
    "\n",
    "## 7-Day-Ahead Demand Forecast DataFrame"
   ]
  },
  {
   "cell_type": "code",
   "execution_count": 3,
   "metadata": {},
   "outputs": [],
   "source": [
    "sev_da_load_orig_cols=['INTERVALSTARTTIME_GMT',\n",
    "                       'OPR_DT',\n",
    "                       'OPR_HR',\n",
    "                       'TAC_AREA_NAME',\n",
    "                       'MW']\n",
    "\n",
    "sev_da_load_new_cols =['start_datetime',\n",
    "                       'date',\n",
    "                       'hr_index',\n",
    "                       'area',\n",
    "                       '7da_load_fcast_mw']\n",
    "\n",
    "sev_da_load_rename_dict = {old: new for old, new in zip(sev_da_load_orig_cols,\n",
    "                                                        sev_da_load_new_cols)}"
   ]
  },
  {
   "cell_type": "code",
   "execution_count": 4,
   "metadata": {},
   "outputs": [],
   "source": [
    "sev_da_load_df = pd.DataFrame(columns=sev_da_load_new_cols)\n",
    "\n",
    "for file in glob.glob('../unzipped_caiso/unzipped_caiso_7da_load/*.csv'):\n",
    "    df = pd.read_csv(file, usecols=sev_da_load_orig_cols).rename(index=str,\n",
    "                                                         columns=sev_da_load_rename_dict)\n",
    "    df = df[df.area == 'CA ISO-TAC']\n",
    "    sev_da_load_df = sev_da_load_df.append(df, ignore_index=True)"
   ]
  },
  {
   "cell_type": "code",
   "execution_count": 5,
   "metadata": {},
   "outputs": [
    {
     "data": {
      "text/plain": [
       "(29072, 5)"
      ]
     },
     "execution_count": 5,
     "metadata": {},
     "output_type": "execute_result"
    }
   ],
   "source": [
    "sev_da_load_df.shape"
   ]
  },
  {
   "cell_type": "code",
   "execution_count": 6,
   "metadata": {},
   "outputs": [
    {
     "data": {
      "text/html": [
       "<div>\n",
       "<style scoped>\n",
       "    .dataframe tbody tr th:only-of-type {\n",
       "        vertical-align: middle;\n",
       "    }\n",
       "\n",
       "    .dataframe tbody tr th {\n",
       "        vertical-align: top;\n",
       "    }\n",
       "\n",
       "    .dataframe thead th {\n",
       "        text-align: right;\n",
       "    }\n",
       "</style>\n",
       "<table border=\"1\" class=\"dataframe\">\n",
       "  <thead>\n",
       "    <tr style=\"text-align: right;\">\n",
       "      <th></th>\n",
       "      <th>date</th>\n",
       "      <th>hr_index</th>\n",
       "      <th>area</th>\n",
       "      <th>7da_load_fcast_mw</th>\n",
       "    </tr>\n",
       "    <tr>\n",
       "      <th>start_datetime</th>\n",
       "      <th></th>\n",
       "      <th></th>\n",
       "      <th></th>\n",
       "      <th></th>\n",
       "    </tr>\n",
       "  </thead>\n",
       "  <tbody>\n",
       "    <tr>\n",
       "      <th>2016-01-01 08:00:00+00:00</th>\n",
       "      <td>2016-01-01</td>\n",
       "      <td>1</td>\n",
       "      <td>CA ISO-TAC</td>\n",
       "      <td>22232.26</td>\n",
       "    </tr>\n",
       "    <tr>\n",
       "      <th>2016-01-01 09:00:00+00:00</th>\n",
       "      <td>2016-01-01</td>\n",
       "      <td>2</td>\n",
       "      <td>CA ISO-TAC</td>\n",
       "      <td>21515.00</td>\n",
       "    </tr>\n",
       "    <tr>\n",
       "      <th>2016-01-01 10:00:00+00:00</th>\n",
       "      <td>2016-01-01</td>\n",
       "      <td>3</td>\n",
       "      <td>CA ISO-TAC</td>\n",
       "      <td>20854.85</td>\n",
       "    </tr>\n",
       "    <tr>\n",
       "      <th>2016-01-01 11:00:00+00:00</th>\n",
       "      <td>2016-01-01</td>\n",
       "      <td>4</td>\n",
       "      <td>CA ISO-TAC</td>\n",
       "      <td>20495.68</td>\n",
       "    </tr>\n",
       "    <tr>\n",
       "      <th>2016-01-01 12:00:00+00:00</th>\n",
       "      <td>2016-01-01</td>\n",
       "      <td>5</td>\n",
       "      <td>CA ISO-TAC</td>\n",
       "      <td>20490.69</td>\n",
       "    </tr>\n",
       "  </tbody>\n",
       "</table>\n",
       "</div>"
      ],
      "text/plain": [
       "                                 date hr_index        area  7da_load_fcast_mw\n",
       "start_datetime                                                               \n",
       "2016-01-01 08:00:00+00:00  2016-01-01        1  CA ISO-TAC           22232.26\n",
       "2016-01-01 09:00:00+00:00  2016-01-01        2  CA ISO-TAC           21515.00\n",
       "2016-01-01 10:00:00+00:00  2016-01-01        3  CA ISO-TAC           20854.85\n",
       "2016-01-01 11:00:00+00:00  2016-01-01        4  CA ISO-TAC           20495.68\n",
       "2016-01-01 12:00:00+00:00  2016-01-01        5  CA ISO-TAC           20490.69"
      ]
     },
     "execution_count": 6,
     "metadata": {},
     "output_type": "execute_result"
    }
   ],
   "source": [
    "sev_da_load_df = sev_da_load_df.sort_values(by='start_datetime').reset_index(drop=True)\n",
    "\n",
    "sev_da_load_df['start_datetime'] = pd.to_datetime(sev_da_load_df['start_datetime'])\n",
    "\n",
    "sev_da_load_df.set_index('start_datetime', inplace=True)\n",
    "sev_da_load_df.sort_index(inplace=True)\n",
    "sev_da_load_df.head()"
   ]
  },
  {
   "cell_type": "code",
   "execution_count": 7,
   "metadata": {},
   "outputs": [
    {
     "name": "stdout",
     "output_type": "stream",
     "text": [
      "<class 'pandas.core.frame.DataFrame'>\n",
      "DatetimeIndex: 29072 entries, 2016-01-01 08:00:00+00:00 to 2019-05-01 06:00:00+00:00\n",
      "Data columns (total 4 columns):\n",
      "date                 29072 non-null object\n",
      "hr_index             29072 non-null object\n",
      "area                 29072 non-null object\n",
      "7da_load_fcast_mw    29072 non-null float64\n",
      "dtypes: float64(1), object(3)\n",
      "memory usage: 1.1+ MB\n"
     ]
    }
   ],
   "source": [
    "sev_da_load_df.info()"
   ]
  },
  {
   "cell_type": "markdown",
   "metadata": {},
   "source": [
    "---\n",
    "\n",
    "## 2-Day-Ahead Demand Forecast DataFrame"
   ]
  },
  {
   "cell_type": "code",
   "execution_count": 8,
   "metadata": {},
   "outputs": [],
   "source": [
    "two_da_load_orig_cols=['INTERVALSTARTTIME_GMT',\n",
    "                       'OPR_DT',\n",
    "                       'OPR_HR',\n",
    "                       'TAC_AREA_NAME',\n",
    "                       'MW']\n",
    "\n",
    "two_da_load_new_cols =['start_datetime',\n",
    "                       'date',\n",
    "                       'hr_index',\n",
    "                       'area',\n",
    "                       '2da_load_fcast_mw']\n",
    "\n",
    "two_da_load_rename_dict = {old: new for old, new in zip(two_da_load_orig_cols,\n",
    "                                                        two_da_load_new_cols)}"
   ]
  },
  {
   "cell_type": "code",
   "execution_count": 9,
   "metadata": {},
   "outputs": [],
   "source": [
    "two_da_load_df = pd.DataFrame(columns=two_da_load_new_cols)\n",
    "\n",
    "for file in glob.glob('../unzipped_caiso/unzipped_caiso_2da_load/*.csv'):\n",
    "    df = pd.read_csv(file, usecols=two_da_load_orig_cols).rename(index=str,\n",
    "                                                         columns=two_da_load_rename_dict)\n",
    "    df = df[df.area == 'CA ISO-TAC']\n",
    "    two_da_load_df = two_da_load_df.append(df, ignore_index=True)"
   ]
  },
  {
   "cell_type": "code",
   "execution_count": 10,
   "metadata": {},
   "outputs": [
    {
     "data": {
      "text/plain": [
       "(29144, 5)"
      ]
     },
     "execution_count": 10,
     "metadata": {},
     "output_type": "execute_result"
    }
   ],
   "source": [
    "two_da_load_df.shape"
   ]
  },
  {
   "cell_type": "code",
   "execution_count": 11,
   "metadata": {},
   "outputs": [
    {
     "data": {
      "text/html": [
       "<div>\n",
       "<style scoped>\n",
       "    .dataframe tbody tr th:only-of-type {\n",
       "        vertical-align: middle;\n",
       "    }\n",
       "\n",
       "    .dataframe tbody tr th {\n",
       "        vertical-align: top;\n",
       "    }\n",
       "\n",
       "    .dataframe thead th {\n",
       "        text-align: right;\n",
       "    }\n",
       "</style>\n",
       "<table border=\"1\" class=\"dataframe\">\n",
       "  <thead>\n",
       "    <tr style=\"text-align: right;\">\n",
       "      <th></th>\n",
       "      <th>date</th>\n",
       "      <th>hr_index</th>\n",
       "      <th>area</th>\n",
       "      <th>2da_load_fcast_mw</th>\n",
       "    </tr>\n",
       "    <tr>\n",
       "      <th>start_datetime</th>\n",
       "      <th></th>\n",
       "      <th></th>\n",
       "      <th></th>\n",
       "      <th></th>\n",
       "    </tr>\n",
       "  </thead>\n",
       "  <tbody>\n",
       "    <tr>\n",
       "      <th>2016-01-01 08:00:00+00:00</th>\n",
       "      <td>2016-01-01</td>\n",
       "      <td>1</td>\n",
       "      <td>CA ISO-TAC</td>\n",
       "      <td>22872.01</td>\n",
       "    </tr>\n",
       "    <tr>\n",
       "      <th>2016-01-01 09:00:00+00:00</th>\n",
       "      <td>2016-01-01</td>\n",
       "      <td>2</td>\n",
       "      <td>CA ISO-TAC</td>\n",
       "      <td>22070.77</td>\n",
       "    </tr>\n",
       "    <tr>\n",
       "      <th>2016-01-01 10:00:00+00:00</th>\n",
       "      <td>2016-01-01</td>\n",
       "      <td>3</td>\n",
       "      <td>CA ISO-TAC</td>\n",
       "      <td>21419.40</td>\n",
       "    </tr>\n",
       "    <tr>\n",
       "      <th>2016-01-01 11:00:00+00:00</th>\n",
       "      <td>2016-01-01</td>\n",
       "      <td>4</td>\n",
       "      <td>CA ISO-TAC</td>\n",
       "      <td>20997.22</td>\n",
       "    </tr>\n",
       "    <tr>\n",
       "      <th>2016-01-01 12:00:00+00:00</th>\n",
       "      <td>2016-01-01</td>\n",
       "      <td>5</td>\n",
       "      <td>CA ISO-TAC</td>\n",
       "      <td>21008.41</td>\n",
       "    </tr>\n",
       "  </tbody>\n",
       "</table>\n",
       "</div>"
      ],
      "text/plain": [
       "                                 date hr_index        area  2da_load_fcast_mw\n",
       "start_datetime                                                               \n",
       "2016-01-01 08:00:00+00:00  2016-01-01        1  CA ISO-TAC           22872.01\n",
       "2016-01-01 09:00:00+00:00  2016-01-01        2  CA ISO-TAC           22070.77\n",
       "2016-01-01 10:00:00+00:00  2016-01-01        3  CA ISO-TAC           21419.40\n",
       "2016-01-01 11:00:00+00:00  2016-01-01        4  CA ISO-TAC           20997.22\n",
       "2016-01-01 12:00:00+00:00  2016-01-01        5  CA ISO-TAC           21008.41"
      ]
     },
     "execution_count": 11,
     "metadata": {},
     "output_type": "execute_result"
    }
   ],
   "source": [
    "two_da_load_df = two_da_load_df.sort_values(by='start_datetime').reset_index(drop=True)\n",
    "\n",
    "two_da_load_df['start_datetime'] = pd.to_datetime(two_da_load_df['start_datetime'])\n",
    "\n",
    "two_da_load_df.set_index('start_datetime', inplace=True)\n",
    "two_da_load_df.sort_index(inplace=True)\n",
    "two_da_load_df.head()"
   ]
  },
  {
   "cell_type": "code",
   "execution_count": 7,
   "metadata": {
    "scrolled": true
   },
   "outputs": [
    {
     "name": "stdout",
     "output_type": "stream",
     "text": [
      "<class 'pandas.core.frame.DataFrame'>\n",
      "DatetimeIndex: 29072 entries, 2016-01-01 08:00:00+00:00 to 2019-05-01 06:00:00+00:00\n",
      "Data columns (total 4 columns):\n",
      "date                 29072 non-null object\n",
      "hr_index             29072 non-null object\n",
      "area                 29072 non-null object\n",
      "7da_load_fcast_mw    29072 non-null float64\n",
      "dtypes: float64(1), object(3)\n",
      "memory usage: 1.1+ MB\n"
     ]
    }
   ],
   "source": [
    "two_da_load_df.info()"
   ]
  },
  {
   "cell_type": "markdown",
   "metadata": {},
   "source": [
    "---\n",
    "\n",
    "## Day-Ahead Demand Forecast DataFrame"
   ]
  },
  {
   "cell_type": "code",
   "execution_count": 12,
   "metadata": {},
   "outputs": [],
   "source": [
    "dam_load_orig_cols=['INTERVALSTARTTIME_GMT',\n",
    "                    'OPR_DT',\n",
    "                    'OPR_HR',\n",
    "                    'TAC_AREA_NAME',\n",
    "                    'MW']\n",
    "\n",
    "dam_load_new_cols =['start_datetime',\n",
    "                    'date',\n",
    "                    'hr_index',\n",
    "                    'area',\n",
    "                    'dam_load_fcast_mw']\n",
    "\n",
    "dam_load_rename_dict = {old: new for old, new in zip(dam_load_orig_cols,\n",
    "                                                     dam_load_new_cols)}"
   ]
  },
  {
   "cell_type": "code",
   "execution_count": 13,
   "metadata": {},
   "outputs": [],
   "source": [
    "dam_load_df = pd.DataFrame(columns=dam_load_new_cols)\n",
    "\n",
    "for file in glob.glob('../unzipped_caiso/unzipped_caiso_dam_load/*.csv'):\n",
    "    df = pd.read_csv(file, usecols=dam_load_orig_cols).rename(index=str,\n",
    "                                                         columns=dam_load_rename_dict)\n",
    "    df = df[df.area == 'CA ISO-TAC']\n",
    "    dam_load_df = dam_load_df.append(df, ignore_index=True)"
   ]
  },
  {
   "cell_type": "code",
   "execution_count": 14,
   "metadata": {},
   "outputs": [
    {
     "data": {
      "text/plain": [
       "(29144, 5)"
      ]
     },
     "execution_count": 14,
     "metadata": {},
     "output_type": "execute_result"
    }
   ],
   "source": [
    "dam_load_df.shape"
   ]
  },
  {
   "cell_type": "code",
   "execution_count": 15,
   "metadata": {},
   "outputs": [
    {
     "data": {
      "text/html": [
       "<div>\n",
       "<style scoped>\n",
       "    .dataframe tbody tr th:only-of-type {\n",
       "        vertical-align: middle;\n",
       "    }\n",
       "\n",
       "    .dataframe tbody tr th {\n",
       "        vertical-align: top;\n",
       "    }\n",
       "\n",
       "    .dataframe thead th {\n",
       "        text-align: right;\n",
       "    }\n",
       "</style>\n",
       "<table border=\"1\" class=\"dataframe\">\n",
       "  <thead>\n",
       "    <tr style=\"text-align: right;\">\n",
       "      <th></th>\n",
       "      <th>date</th>\n",
       "      <th>hr_index</th>\n",
       "      <th>area</th>\n",
       "      <th>dam_load_fcast_mw</th>\n",
       "    </tr>\n",
       "    <tr>\n",
       "      <th>start_datetime</th>\n",
       "      <th></th>\n",
       "      <th></th>\n",
       "      <th></th>\n",
       "      <th></th>\n",
       "    </tr>\n",
       "  </thead>\n",
       "  <tbody>\n",
       "    <tr>\n",
       "      <th>2016-01-01 08:00:00+00:00</th>\n",
       "      <td>2016-01-01</td>\n",
       "      <td>1</td>\n",
       "      <td>CA ISO-TAC</td>\n",
       "      <td>23018.64</td>\n",
       "    </tr>\n",
       "    <tr>\n",
       "      <th>2016-01-01 09:00:00+00:00</th>\n",
       "      <td>2016-01-01</td>\n",
       "      <td>2</td>\n",
       "      <td>CA ISO-TAC</td>\n",
       "      <td>22188.26</td>\n",
       "    </tr>\n",
       "    <tr>\n",
       "      <th>2016-01-01 10:00:00+00:00</th>\n",
       "      <td>2016-01-01</td>\n",
       "      <td>3</td>\n",
       "      <td>CA ISO-TAC</td>\n",
       "      <td>21581.45</td>\n",
       "    </tr>\n",
       "    <tr>\n",
       "      <th>2016-01-01 11:00:00+00:00</th>\n",
       "      <td>2016-01-01</td>\n",
       "      <td>4</td>\n",
       "      <td>CA ISO-TAC</td>\n",
       "      <td>21261.00</td>\n",
       "    </tr>\n",
       "    <tr>\n",
       "      <th>2016-01-01 12:00:00+00:00</th>\n",
       "      <td>2016-01-01</td>\n",
       "      <td>5</td>\n",
       "      <td>CA ISO-TAC</td>\n",
       "      <td>21289.56</td>\n",
       "    </tr>\n",
       "  </tbody>\n",
       "</table>\n",
       "</div>"
      ],
      "text/plain": [
       "                                 date hr_index        area  dam_load_fcast_mw\n",
       "start_datetime                                                               \n",
       "2016-01-01 08:00:00+00:00  2016-01-01        1  CA ISO-TAC           23018.64\n",
       "2016-01-01 09:00:00+00:00  2016-01-01        2  CA ISO-TAC           22188.26\n",
       "2016-01-01 10:00:00+00:00  2016-01-01        3  CA ISO-TAC           21581.45\n",
       "2016-01-01 11:00:00+00:00  2016-01-01        4  CA ISO-TAC           21261.00\n",
       "2016-01-01 12:00:00+00:00  2016-01-01        5  CA ISO-TAC           21289.56"
      ]
     },
     "execution_count": 15,
     "metadata": {},
     "output_type": "execute_result"
    }
   ],
   "source": [
    "dam_load_df = dam_load_df.sort_values(by='start_datetime').reset_index(drop=True)\n",
    "\n",
    "dam_load_df['start_datetime'] = pd.to_datetime(dam_load_df['start_datetime'])\n",
    "\n",
    "dam_load_df.set_index('start_datetime', inplace=True)\n",
    "dam_load_df.sort_index(inplace=True)\n",
    "dam_load_df.head()"
   ]
  },
  {
   "cell_type": "code",
   "execution_count": 16,
   "metadata": {
    "scrolled": true
   },
   "outputs": [
    {
     "name": "stdout",
     "output_type": "stream",
     "text": [
      "<class 'pandas.core.frame.DataFrame'>\n",
      "DatetimeIndex: 29144 entries, 2016-01-01 08:00:00+00:00 to 2019-05-01 06:00:00+00:00\n",
      "Data columns (total 4 columns):\n",
      "date                 29144 non-null object\n",
      "hr_index             29144 non-null object\n",
      "area                 29144 non-null object\n",
      "dam_load_fcast_mw    29144 non-null float64\n",
      "dtypes: float64(1), object(3)\n",
      "memory usage: 1.1+ MB\n"
     ]
    }
   ],
   "source": [
    "dam_load_df.info()"
   ]
  },
  {
   "cell_type": "markdown",
   "metadata": {},
   "source": [
    "---\n",
    "\n",
    "## RTM DataFrame\n",
    "(realtime spot prices, 5-minute realtime settlements only)"
   ]
  },
  {
   "cell_type": "code",
   "execution_count": 17,
   "metadata": {},
   "outputs": [],
   "source": [
    "rtm_load_orig_cols=['INTERVALSTARTTIME_GMT',\n",
    "                    'OPR_DT',\n",
    "                    'OPR_HR',\n",
    "                    'TAC_AREA_NAME',\n",
    "                    'MW']\n",
    "\n",
    "rtm_load_new_cols =['start_datetime',\n",
    "                    'date',\n",
    "                    'hr_index',\n",
    "                    'area',\n",
    "                    'rtm_load_fcast_mw']\n",
    "\n",
    "rtm_load_rename_dict = {old: new for old, new in zip(rtm_load_orig_cols,\n",
    "                                                     rtm_load_new_cols)}"
   ]
  },
  {
   "cell_type": "code",
   "execution_count": 18,
   "metadata": {},
   "outputs": [],
   "source": [
    "rtm_load_df = pd.DataFrame(columns=rtm_load_new_cols)\n",
    "\n",
    "for file in glob.glob('../unzipped_caiso/unzipped_caiso_rtm_load/*.csv'):\n",
    "    df = pd.read_csv(file, usecols=rtm_load_orig_cols).rename(index=str,\n",
    "                                                          columns=rtm_load_rename_dict)\n",
    "    df = df[df.area == 'CA ISO-TAC']\n",
    "    rtm_load_df = rtm_load_df.append(df, ignore_index=True)"
   ]
  },
  {
   "cell_type": "code",
   "execution_count": 19,
   "metadata": {},
   "outputs": [
    {
     "data": {
      "text/plain": [
       "(464532, 5)"
      ]
     },
     "execution_count": 19,
     "metadata": {},
     "output_type": "execute_result"
    }
   ],
   "source": [
    "rtm_load_df.shape"
   ]
  },
  {
   "cell_type": "code",
   "execution_count": 20,
   "metadata": {},
   "outputs": [
    {
     "data": {
      "text/html": [
       "<div>\n",
       "<style scoped>\n",
       "    .dataframe tbody tr th:only-of-type {\n",
       "        vertical-align: middle;\n",
       "    }\n",
       "\n",
       "    .dataframe tbody tr th {\n",
       "        vertical-align: top;\n",
       "    }\n",
       "\n",
       "    .dataframe thead th {\n",
       "        text-align: right;\n",
       "    }\n",
       "</style>\n",
       "<table border=\"1\" class=\"dataframe\">\n",
       "  <thead>\n",
       "    <tr style=\"text-align: right;\">\n",
       "      <th></th>\n",
       "      <th>date</th>\n",
       "      <th>hr_index</th>\n",
       "      <th>area</th>\n",
       "      <th>rtm_load_fcast_mw</th>\n",
       "    </tr>\n",
       "    <tr>\n",
       "      <th>start_datetime</th>\n",
       "      <th></th>\n",
       "      <th></th>\n",
       "      <th></th>\n",
       "      <th></th>\n",
       "    </tr>\n",
       "  </thead>\n",
       "  <tbody>\n",
       "    <tr>\n",
       "      <th>2016-01-01 08:00:00+00:00</th>\n",
       "      <td>2016-01-01</td>\n",
       "      <td>1</td>\n",
       "      <td>CA ISO-TAC</td>\n",
       "      <td>22529.0</td>\n",
       "    </tr>\n",
       "    <tr>\n",
       "      <th>2016-01-01 08:00:00+00:00</th>\n",
       "      <td>2016-01-01</td>\n",
       "      <td>1</td>\n",
       "      <td>CA ISO-TAC</td>\n",
       "      <td>22626.0</td>\n",
       "    </tr>\n",
       "    <tr>\n",
       "      <th>2016-01-01 08:05:00+00:00</th>\n",
       "      <td>2016-01-01</td>\n",
       "      <td>1</td>\n",
       "      <td>CA ISO-TAC</td>\n",
       "      <td>22480.0</td>\n",
       "    </tr>\n",
       "    <tr>\n",
       "      <th>2016-01-01 08:10:00+00:00</th>\n",
       "      <td>2016-01-01</td>\n",
       "      <td>1</td>\n",
       "      <td>CA ISO-TAC</td>\n",
       "      <td>22445.0</td>\n",
       "    </tr>\n",
       "    <tr>\n",
       "      <th>2016-01-01 08:15:00+00:00</th>\n",
       "      <td>2016-01-01</td>\n",
       "      <td>1</td>\n",
       "      <td>CA ISO-TAC</td>\n",
       "      <td>22390.0</td>\n",
       "    </tr>\n",
       "  </tbody>\n",
       "</table>\n",
       "</div>"
      ],
      "text/plain": [
       "                                 date hr_index        area  rtm_load_fcast_mw\n",
       "start_datetime                                                               \n",
       "2016-01-01 08:00:00+00:00  2016-01-01        1  CA ISO-TAC            22529.0\n",
       "2016-01-01 08:00:00+00:00  2016-01-01        1  CA ISO-TAC            22626.0\n",
       "2016-01-01 08:05:00+00:00  2016-01-01        1  CA ISO-TAC            22480.0\n",
       "2016-01-01 08:10:00+00:00  2016-01-01        1  CA ISO-TAC            22445.0\n",
       "2016-01-01 08:15:00+00:00  2016-01-01        1  CA ISO-TAC            22390.0"
      ]
     },
     "execution_count": 20,
     "metadata": {},
     "output_type": "execute_result"
    }
   ],
   "source": [
    "rtm_load_df = rtm_load_df.sort_values(by='start_datetime').reset_index(drop=True)\n",
    "\n",
    "rtm_load_df['start_datetime'] = pd.to_datetime(rtm_load_df['start_datetime'])\n",
    "\n",
    "rtm_load_df.set_index('start_datetime', inplace=True)\n",
    "rtm_load_df.sort_index(inplace=True)\n",
    "rtm_load_df.head()"
   ]
  },
  {
   "cell_type": "code",
   "execution_count": 21,
   "metadata": {},
   "outputs": [],
   "source": [
    "rtm_load_df = rtm_load_df.resample('H').mean()"
   ]
  },
  {
   "cell_type": "code",
   "execution_count": 22,
   "metadata": {},
   "outputs": [
    {
     "data": {
      "text/html": [
       "<div>\n",
       "<style scoped>\n",
       "    .dataframe tbody tr th:only-of-type {\n",
       "        vertical-align: middle;\n",
       "    }\n",
       "\n",
       "    .dataframe tbody tr th {\n",
       "        vertical-align: top;\n",
       "    }\n",
       "\n",
       "    .dataframe thead th {\n",
       "        text-align: right;\n",
       "    }\n",
       "</style>\n",
       "<table border=\"1\" class=\"dataframe\">\n",
       "  <thead>\n",
       "    <tr style=\"text-align: right;\">\n",
       "      <th></th>\n",
       "      <th>rtm_load_fcast_mw</th>\n",
       "    </tr>\n",
       "    <tr>\n",
       "      <th>start_datetime</th>\n",
       "      <th></th>\n",
       "    </tr>\n",
       "  </thead>\n",
       "  <tbody>\n",
       "    <tr>\n",
       "      <th>2016-01-01 08:00:00+00:00</th>\n",
       "      <td>22179.0000</td>\n",
       "    </tr>\n",
       "    <tr>\n",
       "      <th>2016-01-01 09:00:00+00:00</th>\n",
       "      <td>21331.6250</td>\n",
       "    </tr>\n",
       "    <tr>\n",
       "      <th>2016-01-01 10:00:00+00:00</th>\n",
       "      <td>20648.3125</td>\n",
       "    </tr>\n",
       "    <tr>\n",
       "      <th>2016-01-01 11:00:00+00:00</th>\n",
       "      <td>20389.0000</td>\n",
       "    </tr>\n",
       "    <tr>\n",
       "      <th>2016-01-01 12:00:00+00:00</th>\n",
       "      <td>20443.8125</td>\n",
       "    </tr>\n",
       "  </tbody>\n",
       "</table>\n",
       "</div>"
      ],
      "text/plain": [
       "                           rtm_load_fcast_mw\n",
       "start_datetime                              \n",
       "2016-01-01 08:00:00+00:00         22179.0000\n",
       "2016-01-01 09:00:00+00:00         21331.6250\n",
       "2016-01-01 10:00:00+00:00         20648.3125\n",
       "2016-01-01 11:00:00+00:00         20389.0000\n",
       "2016-01-01 12:00:00+00:00         20443.8125"
      ]
     },
     "execution_count": 22,
     "metadata": {},
     "output_type": "execute_result"
    }
   ],
   "source": [
    "rtm_load_df.head()"
   ]
  },
  {
   "cell_type": "code",
   "execution_count": 23,
   "metadata": {},
   "outputs": [
    {
     "data": {
      "text/plain": [
       "(29183, 1)"
      ]
     },
     "execution_count": 23,
     "metadata": {},
     "output_type": "execute_result"
    }
   ],
   "source": [
    "rtm_load_df.shape"
   ]
  },
  {
   "cell_type": "markdown",
   "metadata": {},
   "source": [
    "---\n",
    "\n",
    "## Join Forecasts Into a Single DataFrame"
   ]
  },
  {
   "cell_type": "code",
   "execution_count": 26,
   "metadata": {
    "scrolled": true
   },
   "outputs": [
    {
     "data": {
      "text/plain": [
       "(29072, 3)"
      ]
     },
     "execution_count": 26,
     "metadata": {},
     "output_type": "execute_result"
    }
   ],
   "source": [
    "elec_demand_hrly = sev_da_load_df.drop(columns=['area'])\n",
    "elec_demand_hrly.shape"
   ]
  },
  {
   "cell_type": "code",
   "execution_count": 28,
   "metadata": {},
   "outputs": [
    {
     "data": {
      "text/plain": [
       "(29144, 4)"
      ]
     },
     "execution_count": 28,
     "metadata": {},
     "output_type": "execute_result"
    }
   ],
   "source": [
    "elec_demand_hrly = elec_demand_hrly.merge(two_da_load_df[['2da_load_fcast_mw']],\n",
    "                              how='outer',\n",
    "                              left_index = True,\n",
    "                              right_index = True)\n",
    "elec_demand_hrly.shape"
   ]
  },
  {
   "cell_type": "code",
   "execution_count": 30,
   "metadata": {},
   "outputs": [
    {
     "data": {
      "text/plain": [
       "(29144, 5)"
      ]
     },
     "execution_count": 30,
     "metadata": {},
     "output_type": "execute_result"
    }
   ],
   "source": [
    "elec_demand_hrly = elec_demand_hrly.merge(dam_load_df[['dam_load_fcast_mw']],\n",
    "                              how='outer',\n",
    "                              left_index = True,\n",
    "                              right_index = True)\n",
    "elec_demand_hrly.shape"
   ]
  },
  {
   "cell_type": "code",
   "execution_count": 31,
   "metadata": {},
   "outputs": [
    {
     "data": {
      "text/plain": [
       "(29183, 6)"
      ]
     },
     "execution_count": 31,
     "metadata": {},
     "output_type": "execute_result"
    }
   ],
   "source": [
    "elec_demand_hrly = elec_demand_hrly.merge(rtm_load_df[['rtm_load_fcast_mw']],\n",
    "                              how='outer',\n",
    "                              left_index = True,\n",
    "                              right_index = True)\n",
    "elec_demand_hrly.shape"
   ]
  },
  {
   "cell_type": "code",
   "execution_count": 32,
   "metadata": {},
   "outputs": [
    {
     "data": {
      "text/html": [
       "<div>\n",
       "<style scoped>\n",
       "    .dataframe tbody tr th:only-of-type {\n",
       "        vertical-align: middle;\n",
       "    }\n",
       "\n",
       "    .dataframe tbody tr th {\n",
       "        vertical-align: top;\n",
       "    }\n",
       "\n",
       "    .dataframe thead th {\n",
       "        text-align: right;\n",
       "    }\n",
       "</style>\n",
       "<table border=\"1\" class=\"dataframe\">\n",
       "  <thead>\n",
       "    <tr style=\"text-align: right;\">\n",
       "      <th></th>\n",
       "      <th>date</th>\n",
       "      <th>hr_index</th>\n",
       "      <th>7da_load_fcast_mw</th>\n",
       "      <th>2da_load_fcast_mw</th>\n",
       "      <th>dam_load_fcast_mw</th>\n",
       "      <th>rtm_load_fcast_mw</th>\n",
       "    </tr>\n",
       "    <tr>\n",
       "      <th>start_datetime</th>\n",
       "      <th></th>\n",
       "      <th></th>\n",
       "      <th></th>\n",
       "      <th></th>\n",
       "      <th></th>\n",
       "      <th></th>\n",
       "    </tr>\n",
       "  </thead>\n",
       "  <tbody>\n",
       "    <tr>\n",
       "      <th>2016-01-01 08:00:00+00:00</th>\n",
       "      <td>2016-01-01</td>\n",
       "      <td>1</td>\n",
       "      <td>22232.26</td>\n",
       "      <td>22872.01</td>\n",
       "      <td>23018.64</td>\n",
       "      <td>22179.0000</td>\n",
       "    </tr>\n",
       "    <tr>\n",
       "      <th>2016-01-01 09:00:00+00:00</th>\n",
       "      <td>2016-01-01</td>\n",
       "      <td>2</td>\n",
       "      <td>21515.00</td>\n",
       "      <td>22070.77</td>\n",
       "      <td>22188.26</td>\n",
       "      <td>21331.6250</td>\n",
       "    </tr>\n",
       "    <tr>\n",
       "      <th>2016-01-01 10:00:00+00:00</th>\n",
       "      <td>2016-01-01</td>\n",
       "      <td>3</td>\n",
       "      <td>20854.85</td>\n",
       "      <td>21419.40</td>\n",
       "      <td>21581.45</td>\n",
       "      <td>20648.3125</td>\n",
       "    </tr>\n",
       "    <tr>\n",
       "      <th>2016-01-01 11:00:00+00:00</th>\n",
       "      <td>2016-01-01</td>\n",
       "      <td>4</td>\n",
       "      <td>20495.68</td>\n",
       "      <td>20997.22</td>\n",
       "      <td>21261.00</td>\n",
       "      <td>20389.0000</td>\n",
       "    </tr>\n",
       "    <tr>\n",
       "      <th>2016-01-01 12:00:00+00:00</th>\n",
       "      <td>2016-01-01</td>\n",
       "      <td>5</td>\n",
       "      <td>20490.69</td>\n",
       "      <td>21008.41</td>\n",
       "      <td>21289.56</td>\n",
       "      <td>20443.8125</td>\n",
       "    </tr>\n",
       "    <tr>\n",
       "      <th>2016-01-01 13:00:00+00:00</th>\n",
       "      <td>2016-01-01</td>\n",
       "      <td>6</td>\n",
       "      <td>20950.76</td>\n",
       "      <td>21464.04</td>\n",
       "      <td>21823.54</td>\n",
       "      <td>20868.1250</td>\n",
       "    </tr>\n",
       "    <tr>\n",
       "      <th>2016-01-01 14:00:00+00:00</th>\n",
       "      <td>2016-01-01</td>\n",
       "      <td>7</td>\n",
       "      <td>21525.58</td>\n",
       "      <td>21835.97</td>\n",
       "      <td>22550.65</td>\n",
       "      <td>21567.0000</td>\n",
       "    </tr>\n",
       "    <tr>\n",
       "      <th>2016-01-01 15:00:00+00:00</th>\n",
       "      <td>2016-01-01</td>\n",
       "      <td>8</td>\n",
       "      <td>21422.95</td>\n",
       "      <td>21704.51</td>\n",
       "      <td>22546.23</td>\n",
       "      <td>21647.6250</td>\n",
       "    </tr>\n",
       "    <tr>\n",
       "      <th>2016-01-01 16:00:00+00:00</th>\n",
       "      <td>2016-01-01</td>\n",
       "      <td>9</td>\n",
       "      <td>21454.57</td>\n",
       "      <td>21719.15</td>\n",
       "      <td>22482.49</td>\n",
       "      <td>21809.3125</td>\n",
       "    </tr>\n",
       "    <tr>\n",
       "      <th>2016-01-01 17:00:00+00:00</th>\n",
       "      <td>2016-01-01</td>\n",
       "      <td>10</td>\n",
       "      <td>21610.98</td>\n",
       "      <td>21736.47</td>\n",
       "      <td>22399.67</td>\n",
       "      <td>21739.5000</td>\n",
       "    </tr>\n",
       "  </tbody>\n",
       "</table>\n",
       "</div>"
      ],
      "text/plain": [
       "                                 date hr_index  7da_load_fcast_mw  \\\n",
       "start_datetime                                                      \n",
       "2016-01-01 08:00:00+00:00  2016-01-01        1           22232.26   \n",
       "2016-01-01 09:00:00+00:00  2016-01-01        2           21515.00   \n",
       "2016-01-01 10:00:00+00:00  2016-01-01        3           20854.85   \n",
       "2016-01-01 11:00:00+00:00  2016-01-01        4           20495.68   \n",
       "2016-01-01 12:00:00+00:00  2016-01-01        5           20490.69   \n",
       "2016-01-01 13:00:00+00:00  2016-01-01        6           20950.76   \n",
       "2016-01-01 14:00:00+00:00  2016-01-01        7           21525.58   \n",
       "2016-01-01 15:00:00+00:00  2016-01-01        8           21422.95   \n",
       "2016-01-01 16:00:00+00:00  2016-01-01        9           21454.57   \n",
       "2016-01-01 17:00:00+00:00  2016-01-01       10           21610.98   \n",
       "\n",
       "                           2da_load_fcast_mw  dam_load_fcast_mw  \\\n",
       "start_datetime                                                    \n",
       "2016-01-01 08:00:00+00:00           22872.01           23018.64   \n",
       "2016-01-01 09:00:00+00:00           22070.77           22188.26   \n",
       "2016-01-01 10:00:00+00:00           21419.40           21581.45   \n",
       "2016-01-01 11:00:00+00:00           20997.22           21261.00   \n",
       "2016-01-01 12:00:00+00:00           21008.41           21289.56   \n",
       "2016-01-01 13:00:00+00:00           21464.04           21823.54   \n",
       "2016-01-01 14:00:00+00:00           21835.97           22550.65   \n",
       "2016-01-01 15:00:00+00:00           21704.51           22546.23   \n",
       "2016-01-01 16:00:00+00:00           21719.15           22482.49   \n",
       "2016-01-01 17:00:00+00:00           21736.47           22399.67   \n",
       "\n",
       "                           rtm_load_fcast_mw  \n",
       "start_datetime                                \n",
       "2016-01-01 08:00:00+00:00         22179.0000  \n",
       "2016-01-01 09:00:00+00:00         21331.6250  \n",
       "2016-01-01 10:00:00+00:00         20648.3125  \n",
       "2016-01-01 11:00:00+00:00         20389.0000  \n",
       "2016-01-01 12:00:00+00:00         20443.8125  \n",
       "2016-01-01 13:00:00+00:00         20868.1250  \n",
       "2016-01-01 14:00:00+00:00         21567.0000  \n",
       "2016-01-01 15:00:00+00:00         21647.6250  \n",
       "2016-01-01 16:00:00+00:00         21809.3125  \n",
       "2016-01-01 17:00:00+00:00         21739.5000  "
      ]
     },
     "execution_count": 32,
     "metadata": {},
     "output_type": "execute_result"
    }
   ],
   "source": [
    "elec_demand_hrly.head(10)"
   ]
  },
  {
   "cell_type": "code",
   "execution_count": 33,
   "metadata": {},
   "outputs": [
    {
     "data": {
      "text/plain": [
       "date                 111\n",
       "hr_index             111\n",
       "7da_load_fcast_mw    111\n",
       "2da_load_fcast_mw     39\n",
       "dam_load_fcast_mw     39\n",
       "rtm_load_fcast_mw     43\n",
       "dtype: int64"
      ]
     },
     "execution_count": 33,
     "metadata": {},
     "output_type": "execute_result"
    }
   ],
   "source": [
    "elec_demand_hrly.isna().sum()"
   ]
  },
  {
   "cell_type": "code",
   "execution_count": 37,
   "metadata": {},
   "outputs": [
    {
     "data": {
      "text/plain": [
       "(29068, 6)"
      ]
     },
     "execution_count": 37,
     "metadata": {},
     "output_type": "execute_result"
    }
   ],
   "source": [
    "elec_demand_hrly = elec_demand_hrly.dropna()\n",
    "elec_demand_hrly.shape"
   ]
  },
  {
   "cell_type": "code",
   "execution_count": 38,
   "metadata": {},
   "outputs": [
    {
     "data": {
      "text/plain": [
       "date                 0\n",
       "hr_index             0\n",
       "7da_load_fcast_mw    0\n",
       "2da_load_fcast_mw    0\n",
       "dam_load_fcast_mw    0\n",
       "rtm_load_fcast_mw    0\n",
       "dtype: int64"
      ]
     },
     "execution_count": 38,
     "metadata": {},
     "output_type": "execute_result"
    }
   ],
   "source": [
    "elec_demand_hrly.isna().sum()"
   ]
  },
  {
   "cell_type": "code",
   "execution_count": 39,
   "metadata": {},
   "outputs": [],
   "source": [
    "# elec_demand_hrly.to_csv('../data/elec_demand_hrly.csv')"
   ]
  },
  {
   "cell_type": "code",
   "execution_count": 47,
   "metadata": {},
   "outputs": [
    {
     "data": {
      "image/png": "[encoded data removed]",
      "text/plain": [
       "<Figure size 1080x648 with 1 Axes>"
      ]
     },
     "metadata": {
      "needs_background": "light"
     },
     "output_type": "display_data"
    }
   ],
   "source": [
    "plt.figure(figsize=(15,9))\n",
    "plt.title('CA Electricty Demand (hrly):  7-day, 2-day, DA, RT', fontsize=18)\n",
    "\n",
    "plt.plot(elec_demand_hrly.index,\n",
    "         elec_demand_hrly['7da_load_fcast_mw'],\n",
    "         label = '7 DA', alpha=0.5)\n",
    "\n",
    "# plt.plot(elec_demand_hrly.index,\n",
    "#          elec_demand_hrly['2da_load_fcast_mw'],\n",
    "#          label= '2 DA', alpha=0.2)\n",
    "\n",
    "# plt.plot(elec_demand_hrly.index,\n",
    "#          elec_demand_hrly['dam_load_fcast_mw'],\n",
    "#          label = '1 DA', alpha=0.5)\n",
    "\n",
    "# plt.plot(elec_demand_hrly.index,\n",
    "#          elec_demand_hrly['rtm_load_fcast_mw'],\n",
    "#          label = 'Realtime', alpha=0.2)\n",
    "\n",
    "plt.ylabel('Demand in MW', fontsize=18)\n",
    "plt.legend()\n",
    "# plt.savefig('../images/elec_demand_hrly.jpg', bbox_inches='tight')\n",
    "plt.show();"
   ]
  },
  {
   "cell_type": "code",
   "execution_count": null,
   "metadata": {},
   "outputs": [],
   "source": []
  }
 ],
 "metadata": {
  "kernelspec": {
   "display_name": "Python 3",
   "language": "python",
   "name": "python3"
  },
  "language_info": {
   "codemirror_mode": {
    "name": "ipython",
    "version": 3
   },
   "file_extension": ".py",
   "mimetype": "text/x-python",
   "name": "python",
   "nbconvert_exporter": "python",
   "pygments_lexer": "ipython3",
   "version": "3.6.8"
  },
  "toc": {
   "base_numbering": 1,
   "nav_menu": {},
   "number_sections": true,
   "sideBar": true,
   "skip_h1_title": true,
   "title_cell": "Table of Contents",
   "title_sidebar": "Contents",
   "toc_cell": true,
   "toc_position": {
    "height": "calc(100% - 180px)",
    "left": "10px",
    "top": "150px",
    "width": "280.641px"
   },
   "toc_section_display": true,
   "toc_window_display": true
  },
  "varInspector": {
   "cols": {
    "lenName": 16,
    "lenType": 16,
    "lenVar": 40
   },
   "kernels_config": {
    "python": {
     "delete_cmd_postfix": "",
     "delete_cmd_prefix": "del ",
     "library": "var_list.py",
     "varRefreshCmd": "print(var_dic_list())"
    },
    "r": {
     "delete_cmd_postfix": ") ",
     "delete_cmd_prefix": "rm(",
     "library": "var_list.r",
     "varRefreshCmd": "cat(var_dic_list()) "
    }
   },
   "types_to_exclude": [
    "module",
    "function",
    "builtin_function_or_method",
    "instance",
    "_Feature"
   ],
   "window_display": false
  }
 },
 "nbformat": 4,
 "nbformat_minor": 2
}
